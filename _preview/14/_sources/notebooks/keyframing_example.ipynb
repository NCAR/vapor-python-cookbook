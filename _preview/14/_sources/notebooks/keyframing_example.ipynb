{
 "cells": [
  {
   "cell_type": "markdown",
   "metadata": {},
   "source": [
    "# Keyframing with Vapor"
   ]
  },
  {
   "cell_type": "markdown",
   "metadata": {},
   "source": [
    "In this notebook, we will create an animation where our camera moves to view our visualization from different angles. We will achieve this using an animation technique called keyframing. This technique involves selecting several key scenes, known as keyframes, and then having the computer generate the intermediate frames between these keyframes. This process creates a smooth transition from one keyframe to the next, resulting in a fluid animation."
   ]
  },
  {
   "cell_type": "markdown",
   "metadata": {},
   "source": [
    "### Setup and data download"
   ]
  },
  {
   "cell_type": "code",
   "execution_count": 1,
   "metadata": {},
   "outputs": [
    {
     "name": "stderr",
     "output_type": "stream",
     "text": [
      "Warning: sysroot \"/Applications/Xcode_12.4.app/Contents/Developer/Platforms/MacOSX.platform/Developer/SDKs/MacOSX.sdk\" not found (ignoring for now)."
     ]
    },
    {
     "name": "stdout",
     "output_type": "stream",
     "text": [
      "Vapor 3.9.2\n",
      "Python 3.9.19 (/opt/anaconda3/envs/vapor-cookbook-dev)\n",
      "OpenGL 4.1 Metal - 83.1\n"
     ]
    }
   ],
   "source": [
    "from vapor import session, dataset, renderer\n",
    "from vapor.animation import Animation"
   ]
  },
  {
   "cell_type": "markdown",
   "metadata": {},
   "source": [
    "The following cell will download the data from NCAR's [Research Data Archives](https://rda.ucar.edu/datasets/ds897.7/dataaccess/#)."
   ]
  },
  {
   "cell_type": "code",
   "execution_count": 2,
   "metadata": {},
   "outputs": [],
   "source": [
    "!if [ ! -f \"./data/wrfout_d02_2005-08-29_02.nc\" ]; then \\\n",
    "  curl -o Katrina.zip \"https://data.rda.ucar.edu/ds897.7/Katrina.zip\"; \\\n",
    "fi\n",
    "!if [ -f \"Katrina.zip\" ]; then unzip -o Katrina.zip -d ./data; \\\n",
    "    rm Katrina.zip; \\\n",
    "fi\n",
    "!if [-f \"keyframes\" ]; then mkdir keyframes; \\\n",
    "fi"
   ]
  },
  {
   "cell_type": "markdown",
   "metadata": {},
   "source": [
    "### Create keyframes"
   ]
  },
  {
   "cell_type": "markdown",
   "metadata": {},
   "source": [
    "To begin creating our animation, we first create our keyframes. Each keyframe corresponds to a specific moment in our animation, defined by the camera's position and orientation. We can create these keyframes using either Python or the Vapor application, and save them as session files. For the purpose of this notebook, we'll input our camera information directly in Python, but in practice, it's easier to fine-tune the camera settings within the application."
   ]
  },
  {
   "cell_type": "markdown",
   "metadata": {},
   "source": [
    "First we'll create our static visualization. A detailed guide on how this is created can be found in the quickstart notebook"
   ]
  },
  {
   "cell_type": "code",
   "execution_count": 3,
   "metadata": {},
   "outputs": [],
   "source": [
    "ses = session.Session()\n",
    "data = ses.OpenDataset(dataset.WRF, [\"data/wrfout_d02_2005-08-29_02.nc\"])\n",
    "land = data.NewRenderer(renderer.TwoDDataRenderer) # Draw coastlines\n",
    "land.SetVariableName(\"LANDMASK\")\n",
    "land.GetPrimaryTransferFunction().LoadBuiltinColormap(\"Diverging/delta\")\n",
    "clouds = data.NewRenderer(renderer.VolumeRenderer) # Render clouds\n",
    "clouds.SetVariableName(\"QCLOUD\")\n",
    "clouds_tf = clouds.GetTransferFunction(\"QCLOUD\")\n",
    "clouds_tf.LoadBuiltinColormap(\"Sequential/BlackWhite\")\n",
    "clouds_tf.SetColorRGBList([(r, g, b) for r, g, b, _ in \n",
    "                           list(reversed(clouds_tf.GetMatPlotLibColormap().colors))])\n",
    "clouds_tf.SetOpacityControlPoints([[0,0],[0.00001,0.01], [0.0001, 0.1], [0.0010,0.9]])"
   ]
  },
  {
   "cell_type": "markdown",
   "metadata": {},
   "source": [
    "Now, we'll define the camera settings for each of our keyframes. These numbers are tricky to get right in Python, so it is recommended that they are selected within the application."
   ]
  },
  {
   "cell_type": "code",
   "execution_count": 4,
   "metadata": {},
   "outputs": [],
   "source": [
    "positions = [\n",
    "    [-1190444.44426004, 1882360.85954653, 770176.40842364],\n",
    "    [-1172384.15238047, 2813172.26639064, 355291.41877028],\n",
    "    [-968784.32993129, 3056725.58106798, -34317.16158186],\n",
    "    [-733144.08018801, 2929790.21696698, -32984.22588893],\n",
    "    [-691781.20449513, 2442083.68616993, -47289.68751812]\n",
    "]\n",
    "\n",
    "targets = [\n",
    "    [-420811.28125, 2737271.75, 5699.78515597],\n",
    "    [-420811.28125, 2737271.75, 15699.78515597],\n",
    "    [-420811.28125, 2737271.75, 15699.78515597],\n",
    "    [-420811.28125, 2737271.75, 15699.78515597],\n",
    "    [-420811.28125, 2737271.75, 15699.78515597]\n",
    "]\n",
    "\n",
    "ups = [\n",
    "    [0.41853764, 0.35630071, 0.83538976],\n",
    "    [ 0.39861183, -0.08972356, 0.91272027],\n",
    "    [-0.08058301, 0.02890014, 0.99632884],\n",
    "    [-0.080583, 0.02890014, 0.99632884],\n",
    "    [-0.0964622, -0.0632074, 0.99332767]\n",
    "]"
   ]
  },
  {
   "cell_type": "markdown",
   "metadata": {},
   "source": [
    "Now, we will save each of these camera settings to a session file to represent our keyframes."
   ]
  },
  {
   "cell_type": "code",
   "execution_count": 5,
   "metadata": {},
   "outputs": [
    {
     "name": "stdout",
     "output_type": "stream",
     "text": [
      "[Session.cpp:128] Failed to save session \"./keyframes/keyframe1.vs3\"\n",
      "[Session.cpp:128] Failed to save session \"./keyframes/keyframe2.vs3\"\n",
      "[Session.cpp:128] Failed to save session \"./keyframes/keyframe3.vs3\"\n",
      "[Session.cpp:128] Failed to save session \"./keyframes/keyframe4.vs3\"\n",
      "[Session.cpp:128] Failed to save session \"./keyframes/keyframe5.vs3\"\n"
     ]
    },
    {
     "name": "stderr",
     "output_type": "stream",
     "text": [
      "Unable to open output session file : No such file or directory\n",
      "Unable to open output session file : No such file or directory\n",
      "Unable to open output session file : No such file or directory\n",
      "Unable to open output session file : No such file or directory\n",
      "Unable to open output session file : No such file or directory\n"
     ]
    }
   ],
   "source": [
    "for i, position, target, up in zip(range(1, len(positions)+1), positions, targets, ups):\n",
    "    ses.GetCamera().LookAt(position, target, up)\n",
    "    ses.Save(f\"./keyframes/keyframe{i}.vs3\")"
   ]
  },
  {
   "cell_type": "markdown",
   "metadata": {},
   "source": [
    "### Create helper function for linear interpolation of key frames"
   ]
  },
  {
   "cell_type": "markdown",
   "metadata": {},
   "source": [
    "This function generates an animation using keyframing from a list of session paths and a corresponding list of integers that describe the number of frames between each keyframe. It creates and returns an animation that can be displayed."
   ]
  },
  {
   "cell_type": "code",
   "execution_count": 6,
   "metadata": {},
   "outputs": [],
   "source": [
    "# Function to create animation based on a number of keyframes defined in session_paths.\n",
    "def animate_camera_keyframes(session_paths, steps):\n",
    "    # Load key frames as sessions\n",
    "    key_frames = []\n",
    "    for path in session_paths:\n",
    "        ses = session.Session()\n",
    "        ses.Load(path)\n",
    "        key_frames.append(ses)\n",
    "\n",
    "    # Visualization will use renderers from first session in list. Other sessions are only for camera angles\n",
    "    primary_session = key_frames[0]\n",
    "    anim = Animation(primary_session)\n",
    "    cam = primary_session.GetCamera()\n",
    "    total_frames = sum(steps)\n",
    "    \n",
    "    # Interpolate camera information between each key frame\n",
    "    n = 0\n",
    "    for i in range(len(key_frames) - 1):\n",
    "        start = key_frames[i]\n",
    "        end = key_frames[i+1]\n",
    "        frames = steps[i]\n",
    "        # Get starting information\n",
    "        cam1 = start.GetCamera()\n",
    "        dir1 = cam1.GetDirection()\n",
    "        pos1 = cam1.GetPosition()\n",
    "        up1 = cam1.GetUp()\n",
    "\n",
    "        # Get ending information\n",
    "        cam2 = end.GetCamera()\n",
    "        dir2 = cam2.GetDirection()\n",
    "        pos2 = cam2.GetPosition()\n",
    "        up2 = cam2.GetUp()\n",
    "\n",
    "        # Difference between camera positions on each axis\n",
    "        dPositionX  = (pos2[0] - pos1[0])\n",
    "        dPositionY  = (pos2[1] - pos1[1])\n",
    "        dPositionZ  = (pos2[2] - pos1[2])\n",
    "\n",
    "        # Difference between camera direction vectors on each axis\n",
    "        dDirectionX = (dir2[0] - dir1[0])\n",
    "        dDirectionY = (dir2[1] - dir1[1])\n",
    "        dDirectionZ = (dir2[2] - dir1[2])\n",
    "\n",
    "        # Difference between camera up vectors on each axis\n",
    "        dUpX        = (up2[0] - up1[0])\n",
    "        dUpY        = (up2[1] - up1[1])\n",
    "        dUpZ        = (up2[2] - up1[2])\n",
    "\n",
    "        # Linear interpolation between start and end\n",
    "        for j in range(frames):\n",
    "            position = [\n",
    "                pos1[0]+dPositionX*j/frames,\n",
    "                pos1[1]+dPositionY*j/frames,\n",
    "                pos1[2]+dPositionZ*j/frames\n",
    "            ]\n",
    "            cam.SetPosition( position )\n",
    "\n",
    "            direction = [\n",
    "                dir1[0]+dDirectionX*j/frames,\n",
    "                dir1[1]+dDirectionY*j/frames,\n",
    "                dir1[2]+dDirectionZ*j/frames\n",
    "            ]\n",
    "            cam.SetDirection( direction )\n",
    "\n",
    "            up = [\n",
    "                up1[0]+dUpX*j/frames,\n",
    "                up1[1]+dUpY*j/frames,\n",
    "                up1[2]+dUpZ*j/frames\n",
    "            ]\n",
    "            cam.SetUp( up )\n",
    "            anim.CaptureFrame()\n",
    "            \n",
    "            # Print statement is for each keyframe, not for whole animation\n",
    "            print(f\"Rendering Animation [{'#'*round((j+n)*40/total_frames)}{' '*round(40-((j+n)*40/total_frames))}] {(j+1+n)*100/total_frames:.0f}%\", end=\"\\r\")\n",
    "        n += steps[i]\n",
    "    return anim\n",
    "    "
   ]
  },
  {
   "cell_type": "markdown",
   "metadata": {},
   "source": [
    "### Generate Animation"
   ]
  },
  {
   "cell_type": "markdown",
   "metadata": {},
   "source": [
    "Specify the paths to your session files (keyframes) and the number of interpolation steps between each keyframe."
   ]
  },
  {
   "cell_type": "code",
   "execution_count": 7,
   "metadata": {},
   "outputs": [],
   "source": [
    "sessions = [\n",
    "    \"keyframes/keyframe1.vs3\",\n",
    "    \"keyframes/keyframe2.vs3\",\n",
    "    \"keyframes/keyframe3.vs3\",\n",
    "    \"keyframes/keyframe4.vs3\",\n",
    "    \"keyframes/keyframe5.vs3\",\n",
    "]\n",
    "steps = [40,30,30,30]"
   ]
  },
  {
   "cell_type": "markdown",
   "metadata": {},
   "source": [
    "### Generate and Display Animation"
   ]
  },
  {
   "cell_type": "markdown",
   "metadata": {},
   "source": [
    "Create the animation using the defined keyframes and steps, then display it."
   ]
  },
  {
   "cell_type": "code",
   "execution_count": 8,
   "metadata": {},
   "outputs": [
    {
     "ename": "",
     "evalue": "",
     "output_type": "error",
     "traceback": [
      "\u001b[1;31mThe Kernel crashed while executing code in the current cell or a previous cell. \n",
      "\u001b[1;31mPlease review the code in the cell(s) to identify a possible cause of the failure. \n",
      "\u001b[1;31mClick <a href='https://aka.ms/vscodeJupyterKernelCrash'>here</a> for more info. \n",
      "\u001b[1;31mView Jupyter <a href='command:jupyter.viewOutput'>log</a> for further details."
     ]
    }
   ],
   "source": [
    "anim = animate_camera_keyframes(sessions, steps)\n",
    "anim.Show()"
   ]
  }
 ],
 "metadata": {
  "kernelspec": {
   "display_name": "vapor",
   "language": "python",
   "name": "python3"
  },
  "language_info": {
   "codemirror_mode": {
    "name": "ipython",
    "version": 3
   },
   "file_extension": ".py",
   "mimetype": "text/x-python",
   "name": "python",
   "nbconvert_exporter": "python",
   "pygments_lexer": "ipython3",
   "version": "3.9.19"
  }
 },
 "nbformat": 4,
 "nbformat_minor": 2
}
